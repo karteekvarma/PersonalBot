{
 "cells": [
  {
   "cell_type": "code",
   "execution_count": 2,
   "id": "de7e53ce",
   "metadata": {},
   "outputs": [],
   "source": [
    "import json\n",
    "\n",
    "# Helper to clean annoying unicode\n",
    "def clean_unicode(text):\n",
    "    return (\n",
    "        text.replace(\"\\u2011\", \"-\")  # non-breaking hyphen\n",
    "            .replace(\"\\u2013\", \"-\")  # en dash\n",
    "            .replace(\"\\u2014\", \"-\")  # em dash\n",
    "            .replace(\"\\u2019\", \"'\")  # right single quote\n",
    "            .replace(\"\\u202f\", \" \")  # narrow no-break space\n",
    "            .replace(\"\\u00a0\", \" \")\n",
    "    )\n",
    "\n",
    "# Load and clean JSON\n",
    "with open(\"karteek_data.json\", \"r\", encoding=\"utf-8\") as f:\n",
    "    data = json.load(f)\n",
    "\n",
    "for item in data:\n",
    "    for key in [\"instruction\", \"input\", \"output\"]:\n",
    "        item[key] = clean_unicode(item[key])\n",
    "\n",
    "# Save cleaned file\n",
    "with open(\"cleaned_data.json\", \"w\", encoding=\"utf-8\") as f:\n",
    "    json.dump(data, f, indent=2, ensure_ascii=False)\n"
   ]
  }
 ],
 "metadata": {
  "kernelspec": {
   "display_name": "Python 3",
   "language": "python",
   "name": "python3"
  },
  "language_info": {
   "codemirror_mode": {
    "name": "ipython",
    "version": 3
   },
   "file_extension": ".py",
   "mimetype": "text/x-python",
   "name": "python",
   "nbconvert_exporter": "python",
   "pygments_lexer": "ipython3",
   "version": "3.11.11"
  }
 },
 "nbformat": 4,
 "nbformat_minor": 5
}
