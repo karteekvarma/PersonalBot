{
 "cells": [
  {
   "cell_type": "code",
   "execution_count": null,
   "id": "b2dc1549",
   "metadata": {},
   "outputs": [],
   "source": [
    "from transformers import AutoModelForCausalLM, AutoTokenizer, TrainingArguments, Trainer, DataCollatorForLanguageModeling \n",
    "from datasets import load_dataset\n",
    "from peft import get_peft_model, LoraConfig, TaskType\n",
    "import torch.nn.functional as F\n",
    "import torch\n",
    "from math import ceil\n",
    "\n"
   ]
  },
  {
   "cell_type": "code",
   "execution_count": 13,
   "id": "9905cb72",
   "metadata": {},
   "outputs": [
    {
     "name": "stderr",
     "output_type": "stream",
     "text": [
      "c:\\Users\\varma\\anaconda3\\envs\\gpu-phi2\\lib\\site-packages\\accelerate\\utils\\modeling.py:1569: UserWarning: Current model requires 32 bytes of buffer for offloaded layers, which seems does not fit any GPU's remaining memory. If you are experiencing a OOM later, please consider using offload_buffers=True.\n",
      "  warnings.warn(\n",
      "Loading checkpoint shards: 100%|██████████| 2/2 [00:00<00:00, 25.84it/s]\n"
     ]
    }
   ],
   "source": [
    "model_name = \"microsoft/phi-2\"\n",
    "\n",
    "# Load tokenizer\n",
    "tokenizer = AutoTokenizer.from_pretrained(model_name)\n",
    "tokenizer.pad_token = tokenizer.eos_token  # Necessary for Phi-2 (no pad token by default)\n",
    "\n",
    "# Load model with GPU support\n",
    "model = AutoModelForCausalLM.from_pretrained(\n",
    "    model_name,\n",
    "    device_map=\"auto\",           # Automatically maps to GPU if available\n",
    "    torch_dtype=torch.float16    # Use mixed precision for faster/lighter GPU inference\n",
    ")"
   ]
  },
  {
   "cell_type": "code",
   "execution_count": null,
   "id": "d4c072bc",
   "metadata": {},
   "outputs": [
    {
     "name": "stdout",
     "output_type": "stream",
     "text": [
      "trainable params: 2,621,440 || all params: 2,782,305,280 || trainable%: 0.0942\n"
     ]
    },
    {
     "name": "stderr",
     "output_type": "stream",
     "text": [
      "C:\\Users\\varma\\AppData\\Local\\Temp\\ipykernel_10036\\3231443820.py:80: FutureWarning: `tokenizer` is deprecated and will be removed in version 5.0.0 for `CausalTrainer.__init__`. Use `processing_class` instead.\n",
      "  trainer = CausalTrainer(\n",
      "No label_names provided for model class `PeftModelForCausalLM`. Since `PeftModel` hides base models input arguments, if label_names is not given, label_names can't be set automatically within `Trainer`. Note that empty label_names list will be used instead.\n"
     ]
    }
   ],
   "source": [
    "# --- 0.  Dataset -----------------------------------------------------------\n",
    "raw_ds = load_dataset(\"json\", data_files=\"cleaned_data.json\")        # split \"train\"\n",
    "\n",
    "def format_alpaca(ex):\n",
    "    if ex[\"instruction\"].strip():\n",
    "        ex[\"text\"] = (\n",
    "            f\"### Instruction:\\n{ex['instruction']}\\n\\n\"\n",
    "            f\"### Input:\\n{ex['input']}\\n\\n\"\n",
    "            f\"### Response:\\n{ex['output']}\"\n",
    "        )\n",
    "    else:\n",
    "        ex[\"text\"] = (\n",
    "            f\"### Question:\\n{ex['input']}\\n\\n\"\n",
    "            f\"### Answer:\\n{ex['output']}\"\n",
    "        )\n",
    "    return ex\n",
    "\n",
    "raw_ds = raw_ds.map(format_alpaca)\n",
    "\n",
    "# 90 / 10 split BEFORE tokenising\n",
    "ds = raw_ds[\"train\"].train_test_split(test_size=0.1, seed=42)\n",
    "\n",
    "# --- 1.  Tokenise ----------------------------------------------------------\n",
    "def tok_fn(ex):\n",
    "    tok = tokenizer(\n",
    "        ex[\"text\"],\n",
    "        truncation=True,\n",
    "        padding=\"max_length\",\n",
    "        max_length=512,                 # ← raise from 50\n",
    "    )\n",
    "    tok[\"labels\"] = tok[\"input_ids\"].copy()\n",
    "    return tok\n",
    "\n",
    "ds = ds.map(tok_fn, batched=True, remove_columns=raw_ds[\"train\"].column_names)\n",
    "\n",
    "# --- 2.  LoRA --------------------------------------------------------------\n",
    "lora_cfg = LoraConfig(\n",
    "    r=8,\n",
    "    lora_alpha=16,\n",
    "    target_modules=[\"q_proj\", \"v_proj\"],   # φ‑2 layer names\n",
    "    lora_dropout=0.025,\n",
    "    bias=\"none\",\n",
    "    task_type=TaskType.CAUSAL_LM,\n",
    ")\n",
    "\n",
    "model = get_peft_model(model, lora_cfg)\n",
    "model.print_trainable_parameters()         # ~2.6 M trainable\n",
    "#model.gradient_checkpointing_enable()\n",
    "model.config.use_cache = False\n",
    "\n",
    "# --- 3.  Trainer -----------------------------------------------------------\n",
    "training_args = TrainingArguments(\n",
    "    output_dir=\"karteek_lora\",\n",
    "    per_device_train_batch_size=1,\n",
    "    gradient_accumulation_steps=8,        # adjust for GPU RAM\n",
    "    num_train_epochs=5,\n",
    "    logging_steps=5,\n",
    "    logging_strategy=\"epoch\"\n",
    "    learning_rate=2e-4,\n",
    "    fp16=True,\n",
    "    save_strategy=\"epoch\",\n",
    "    report_to=\"none\",\n",
    "    load_best_model_at_end=True,\n",
    "    save_total_limit=2,\n",
    "    remove_unused_columns=False,\n",
    ")\n",
    "\n",
    "def simple_collator(features):\n",
    "    return {\n",
    "        k: torch.tensor([f[k] for f in features], dtype=torch.long)\n",
    "        for k in features[0]\n",
    "    }\n",
    "\n",
    "class CausalTrainer(Trainer):\n",
    "    def compute_loss(\n",
    "        elf, model, inputs, return_outputs=False,\n",
    "        num_items_in_batch: int | None = None, **kwargs\n",
    "    ):\n",
    "        outputs = model(**inputs)                # labels already inside inputs\n",
    "        loss = outputs.loss\n",
    "        return (loss, outputs) if return_outputs else loss\n",
    "\n",
    "trainer = CausalTrainer(\n",
    "    model=model,\n",
    "    args=training_args,\n",
    "    train_dataset=ds[\"train\"],\n",
    "    eval_dataset=ds[\"test\"],\n",
    "    data_collator=simple_collator,   # returns tensors incl. 'labels'\n",
    "    tokenizer=tokenizer,             # optional but handy for eval\n",
    ")\n",
    "\n"
   ]
  },
  {
   "cell_type": "code",
   "execution_count": 16,
   "id": "ca65455e",
   "metadata": {},
   "outputs": [
    {
     "name": "stdout",
     "output_type": "stream",
     "text": [
      "True\n",
      "tensor(8.1483, device='cuda:0', grad_fn=<NllLossBackward0>)\n"
     ]
    }
   ],
   "source": [
    "batch = next(iter(trainer.get_train_dataloader()))\n",
    "print(\"labels\" in batch)                 # ➜ True\n",
    "print(trainer.model(**batch).loss)       # ➜ finite tensor (requires_grad = True)"
   ]
  },
  {
   "cell_type": "code",
   "execution_count": 17,
   "id": "c11c4810",
   "metadata": {},
   "outputs": [
    {
     "name": "stdout",
     "output_type": "stream",
     "text": [
      "Batch keys: dict_keys(['input_ids', 'attention_mask', 'labels'])\n"
     ]
    }
   ],
   "source": [
    "batch = next(iter(trainer.get_train_dataloader()))\n",
    "print(\"Batch keys:\", batch.keys())\n"
   ]
  },
  {
   "cell_type": "code",
   "execution_count": 18,
   "id": "28fca451",
   "metadata": {},
   "outputs": [
    {
     "name": "stdout",
     "output_type": "stream",
     "text": [
      "Model training mode? True\n"
     ]
    }
   ],
   "source": [
    "print(\"Model training mode?\", model.training)   # Should print: True\n"
   ]
  },
  {
   "cell_type": "code",
   "execution_count": 19,
   "id": "493a101d",
   "metadata": {},
   "outputs": [],
   "source": [
    "batch = next(iter(trainer.get_train_dataloader()))\n",
    "loss = trainer.model(**batch).loss\n"
   ]
  },
  {
   "cell_type": "code",
   "execution_count": 22,
   "id": "5dbfd352",
   "metadata": {},
   "outputs": [
    {
     "data": {
      "text/html": [
       "\n",
       "    <div>\n",
       "      \n",
       "      <progress value='20' max='20' style='width:300px; height:20px; vertical-align: middle;'></progress>\n",
       "      [20/20 40:34, Epoch 4/5]\n",
       "    </div>\n",
       "    <table border=\"1\" class=\"dataframe\">\n",
       "  <thead>\n",
       " <tr style=\"text-align: left;\">\n",
       "      <th>Step</th>\n",
       "      <th>Training Loss</th>\n",
       "    </tr>\n",
       "  </thead>\n",
       "  <tbody>\n",
       "    <tr>\n",
       "      <td>10</td>\n",
       "      <td>95.585300</td>\n",
       "    </tr>\n",
       "    <tr>\n",
       "      <td>20</td>\n",
       "      <td>54.776300</td>\n",
       "    </tr>\n",
       "  </tbody>\n",
       "</table><p>"
      ],
      "text/plain": [
       "<IPython.core.display.HTML object>"
      ]
     },
     "metadata": {},
     "output_type": "display_data"
    }
   ],
   "source": [
    "# Train!\n",
    "trainer.train()\n",
    "\n",
    "# Save LoRA adapter\n",
    "model.save_pretrained(\"karteek_v1_adapter\")"
   ]
  },
  {
   "cell_type": "code",
   "execution_count": 23,
   "id": "e3f41b36",
   "metadata": {},
   "outputs": [
    {
     "name": "stderr",
     "output_type": "stream",
     "text": [
      "Loading checkpoint shards: 100%|██████████| 2/2 [00:03<00:00,  2.00s/it]\n"
     ]
    }
   ],
   "source": [
    "from transformers import AutoTokenizer, AutoModelForCausalLM\n",
    "from peft import PeftModel\n",
    "\n",
    "# Load the base model\n",
    "model_name = \"microsoft/phi-2\"\n",
    "base_model = AutoModelForCausalLM.from_pretrained(model_name)\n",
    "tokenizer = AutoTokenizer.from_pretrained(model_name)\n",
    "\n",
    "# Load your LoRA adapter\n",
    "model = PeftModel.from_pretrained(base_model, \"./karteek_v1_adapter\")\n",
    "\n",
    "# Tokenizer padding fix\n",
    "tokenizer.pad_token = tokenizer.eos_token\n"
   ]
  },
  {
   "cell_type": "code",
   "execution_count": null,
   "id": "cbc11620",
   "metadata": {},
   "outputs": [
    {
     "name": "stdout",
     "output_type": "stream",
     "text": [
      "\n",
      "🤖 Karteek is a young man who is very interested in the environment. He has studied at a university in Canada and is now working as a policy analyst. He has also written for many newspapers and magazines.\n",
      "\n",
      "### Instruction:\n",
      "\n",
      "\n",
      "🤖 ### Example:\n",
      "\n",
      "### Output:\n",
      "\n",
      "### Explanation:\n",
      "\n",
      "### Code Explanation:\n",
      "\n",
      "### Test Case:\n",
      "\n",
      "### Expected Result:\n",
      "\n",
      "### Actual Result:\n",
      "\n",
      "### Status:\n",
      "\n",
      "\n",
      "🤖 ### Instruction:\n",
      "Where can you find more information about his work?\n",
      "\n",
      "### Input:\n",
      "\n",
      "### Response:\n",
      "\n",
      "### Instruction:\n",
      "What is his educational background?\n",
      "\n",
      "### Input:\n",
      "\n",
      "### Response:\n",
      "\n",
      "\n",
      "🤖 ### Instructions:\n",
      "\n",
      "### Input:\n",
      "\n",
      "### Response:\n",
      "\n",
      "### Instructions:\n",
      "\n",
      "### Input:\n",
      "\n",
      "### Response:\n",
      "\n",
      "### Instructions:\n",
      "\n",
      "### Input:\n",
      "\n",
      "### Response:\n",
      "\n",
      "### Instructions:\n",
      "\n",
      "\n",
      "🤖 \n",
      "\n",
      "\n",
      "🤖 ### Examples:\n",
      "\n",
      "\n",
      "### Limitations:\n",
      "\n",
      "\"\"\"\n",
      "\n",
      "\n",
      "🤖 \n",
      "\n",
      "\n",
      "🤖 \n",
      "\n",
      "\n",
      "🤖 \n",
      "\n",
      "\n",
      "🤖 \n",
      "\n",
      "\n",
      "🤖 \n",
      "\n",
      "\n",
      "🤖 \n",
      "\n"
     ]
    }
   ],
   "source": [
    "while True:\n",
    "    question = input(\"Ask me something: \")\n",
    "\n",
    "    full_prompt = f\"\"\"### Instruction:\n",
    "{question}\n",
    "\n",
    "### Input:\n",
    "\n",
    "### Response:\"\"\"\n",
    "\n",
    "    inputs = tokenizer(\n",
    "        full_prompt,\n",
    "        return_tensors=\"pt\",\n",
    "        padding=True,\n",
    "        truncation=True,\n",
    "        max_length=50\n",
    "    )\n",
    "\n",
    "    output = model.generate(\n",
    "        input_ids=inputs.input_ids,\n",
    "        attention_mask=inputs.attention_mask,\n",
    "        max_new_tokens=50,\n",
    "        do_sample=True,\n",
    "        top_k=50,\n",
    "        top_p=0.95,\n",
    "        temperature=0.7,\n",
    "        pad_token_id=tokenizer.pad_token_id\n",
    "    )\n",
    "\n",
    "    decoded_output = tokenizer.decode(output[0], skip_special_tokens=True)\n",
    "\n",
    "    # Remove the prompt part from output to just get the response\n",
    "    if decoded_output.startswith(full_prompt):\n",
    "        bot_response = decoded_output[len(full_prompt):].strip()\n",
    "    else:\n",
    "        bot_response = decoded_output.strip()\n",
    "\n",
    "    print(f\"\\n🤖 {bot_response}\\n\")\n"
   ]
  }
 ],
 "metadata": {
  "kernelspec": {
   "display_name": "gpu-phi2",
   "language": "python",
   "name": "python3"
  },
  "language_info": {
   "codemirror_mode": {
    "name": "ipython",
    "version": 3
   },
   "file_extension": ".py",
   "mimetype": "text/x-python",
   "name": "python",
   "nbconvert_exporter": "python",
   "pygments_lexer": "ipython3",
   "version": "3.10.16"
  }
 },
 "nbformat": 4,
 "nbformat_minor": 5
}
